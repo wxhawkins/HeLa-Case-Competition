{
 "cells": [
  {
   "cell_type": "markdown",
   "metadata": {},
   "source": [
    "## Imports"
   ]
  },
  {
   "cell_type": "code",
   "execution_count": 1,
   "metadata": {},
   "outputs": [],
   "source": [
    "import numpy as np\n",
    "import pandas as pd\n",
    "import requests\n",
    "from collections import OrderedDict\n",
    "\n",
    "import plotly.figure_factory as ff\n",
    "from plotly import offline\n",
    "from plotly.graph_objs import *\n",
    "\n",
    "pd.options.display.max_columns = 100\n",
    "\n",
    "# Key is required to access census data\n",
    "with open(\"./Census Key.txt\", \"r\") as f:\n",
    "    key = f.read()\n",
    "    \n",
    "year = \"2019\""
   ]
  },
  {
   "cell_type": "markdown",
   "metadata": {},
   "source": [
    "## Functions"
   ]
  },
  {
   "cell_type": "code",
   "execution_count": 2,
   "metadata": {},
   "outputs": [],
   "source": [
    "# Small proof of concept\n",
    "fips = [\"06021\", \"06023\", \"06027\",\n",
    "        \"06029\", \"06033\", \"06059\",\n",
    "        \"06047\", \"06049\", \"06051\",\n",
    "        \"06055\", \"06061\"]\n",
    "values = range(len(fips))\n",
    "\n",
    "fig = ff.create_choropleth(fips=fips, values=values)\n",
    "fig.layout.template = None\n",
    "\n",
    "fig.layout.plot_bgcolor = \"#fff\"\n",
    "fig.layout.paper_bgcolor = \"#fff\"\n",
    "# offline.plot(fig, filename=\"temp_out.html\")\n",
    "# fig.show()"
   ]
  },
  {
   "cell_type": "code",
   "execution_count": 3,
   "metadata": {},
   "outputs": [],
   "source": [
    "def json_to_dataframe(response):\n",
    "    \"\"\"\n",
    "        Convert json response to dataframe.\n",
    "    \"\"\"\n",
    "    return pd.DataFrame(response.json()[1:], columns=response.json()[0])"
   ]
  },
  {
   "cell_type": "code",
   "execution_count": 4,
   "metadata": {},
   "outputs": [],
   "source": [
    "def column_to_int(df, *column_names):\n",
    "    \"\"\"\n",
    "        Convert data type to int.\n",
    "    \"\"\"\n",
    "    for name in column_names:\n",
    "        df[name] = df[name].astype(int)\n",
    "        \n",
    "    return df"
   ]
  },
  {
   "cell_type": "code",
   "execution_count": 5,
   "metadata": {},
   "outputs": [],
   "source": [
    "def get_endpoints(df, var, num_endpoints=5):\n",
    "    \"\"\" Automatically determine bins for plot legend. \"\"\"\n",
    "    endpoints = []\n",
    "    step = round(1 / (num_endpoints + 2), 3)\n",
    "    \n",
    "    quant = step\n",
    "    for i in range(num_endpoints):\n",
    "        print(quant)\n",
    "        endpoints.append(round(df[var].quantile(quant), 3))\n",
    "        quant += step\n",
    "        \n",
    "    return endpoints"
   ]
  },
  {
   "cell_type": "code",
   "execution_count": 31,
   "metadata": {},
   "outputs": [],
   "source": [
    "def county_map(df, var, endpoints=None):\n",
    "    \"\"\" Generate county map. \"\"\"\n",
    "    \n",
    "    fips = df.index\n",
    "    values = df[var]\n",
    "    if endpoints is None:\n",
    "        endpoints = get_endpoints(df, var)\n",
    "    \n",
    "    # Blue\n",
    "    colorscale = [\n",
    "        \"rgb(220, 220, 220)\",\n",
    "        \"rgb(218,218,230)\",\n",
    "        \"rgb(185, 185, 220)\",\n",
    "        \"rgb(144,148,194)\",\n",
    "        \"rgb(101,104,168)\",\n",
    "        \"rgb(65, 53, 132)\"\n",
    "    ]\n",
    "    \n",
    "    # Red\n",
    "#     colorscale = [\n",
    "#         \"rgb(220, 220, 220)\",\n",
    "#         \"rgb(250, 210, 216)\",\n",
    "#         \"rgb(245, 183, 177)\",\n",
    "#         \"rgb(236, 112, 99)\",\n",
    "#         \"rgb(203, 67, 53)\",\n",
    "#         \"rgb(148, 49, 38)\"\n",
    "#     ]\n",
    "\n",
    "    # Create plot\n",
    "    fig = ff.create_choropleth(\n",
    "        fips=fips, values=values,\n",
    "        binning_endpoints=endpoints, colorscale=colorscale,\n",
    "        county_outline={\"color\": \"rgb(255,255,255)\", \"width\": 0.5}, round_legend_values=False,\n",
    "        legend_title=f\"{var} ({year})\", title=f\"{var} by County ({year})\",\n",
    "        show_state_data=True,\n",
    "        show_hover=True,\n",
    "        \n",
    "    )\n",
    "\n",
    "#     config = dict({\"scrollZoom\": True})\n",
    "    fig.layout.template = None\n",
    "\n",
    "    # Set background\n",
    "    fig.layout.plot_bgcolor = \"#fff\"\n",
    "    fig.layout.paper_bgcolor = \"#fff\"\n",
    "\n",
    "    # Output plot (include_plotlyjs required for hover info)\n",
    "    offline.plot(fig, filename=\"temp_out.html\", include_plotlyjs=\"https://cdn.plot.ly/plotly-1.42.3.min.js\")"
   ]
  },
  {
   "cell_type": "markdown",
   "metadata": {},
   "source": [
    "## Main"
   ]
  },
  {
   "cell_type": "code",
   "execution_count": 7,
   "metadata": {},
   "outputs": [],
   "source": [
    "def pull_census_data(var_dict):\n",
    "    \"\"\" Pull down census data for variables provided and return as a DataFrame. \"\"\"\n",
    "    var_string = \",\".join(var_dict.keys())\n",
    "    url = f\"https://api.census.gov/data/{year}/acs/acs5/?get={var_string}&for=county:*&in=state:*&key={key}\"\n",
    "    response = requests.request(\"GET\", url)\n",
    "\n",
    "    df = json_to_dataframe(response)\n",
    "    df = df.rename(columns=var_dict)\n",
    "    \n",
    "    return df"
   ]
  },
  {
   "cell_type": "code",
   "execution_count": 8,
   "metadata": {},
   "outputs": [],
   "source": [
    "# Pull down data from census\n",
    "base_var_dict = OrderedDict({\n",
    "    \"NAME\": \"Full Name\", \n",
    "    \"B01001_002E\": \"Total Male\",\n",
    "    \"B01001B_002E\": \"Black Men\",\n",
    "    \"B01001B_012E\": \"Black Men 45-54\",\n",
    "    \"B01001B_013E\": \"Black Men 55-64\",\n",
    "    \"C23002B_010E\": \"Black Men Over 64\", \n",
    "    \"B01001_001E\": \"Total Pop\", \n",
    "    \"B02001_003E\": \"Total Black\",\n",
    "    \"B02009_001E\": \"Partial Black\",\n",
    "    \"B19301_001E\": \"Per capita income\",\n",
    "    \"B08014_001E\": \"Total Vehicle\",\n",
    "    \"B08014_002E\": \"No vehicle\",\n",
    "    \"B08014_008E\": \"Total Vehicle Male\",\n",
    "    \"B08014_009E\": \"Men no vehicle\",\n",
    "    \"B08101_001E\": \"Total Trans\",\n",
    "    \"B08101_025E\": \"Public trans\",\n",
    "    \"B28002_002E\": \"With Internet\",\n",
    "    \"B28002_001E\": \"Total Internet\",\n",
    "    \"B28001_001E\": \"Total Computers\",\n",
    "    \"B28001_002E\": \"Household with Computer\",\n",
    "    \"B28001_005E\": \"Household with Smartphone\",\n",
    "    \"B28001_006E\": \"Household with only Smartphone\",\n",
    "    \"B28001_011E\": \"Household with no Computer\",\n",
    "    \"B28009B_001E\": \"Total Black Household Computer\",\n",
    "    \"B28009B_002E\": \"Black Household with Computer\",\n",
    "    \"B28009B_004E\": \"Black Household with Broadband\",\n",
    "    \"B28009B_003E\": \"Black Household with Dialup\",\n",
    "    \"C15002B_002E\": \"Education Black Male Total\",\n",
    "    \"C15002B_003E\": \"Black Male Less than High School\",\n",
    "    \"C15002A_002E\": \"Education White Male Total\",\n",
    "    \"C15002A_003E\": \"White Male Less than High School\",\n",
    "    \"B16010_001E\": \"Education Total\",\n",
    "    \"B16010_002E\": \"Less than High School\",\n",
    "})\n",
    "\n",
    "insurance_var_dict = OrderedDict({\n",
    "    \"B27002_018E\": \"45-54 Male Priv HI Total\",\n",
    "    \"B27002_021E\": \"55-64 Male Priv HI Total\",\n",
    "    \"B27002_024E\": \"65-74 Male Priv HI Total\",\n",
    "    \"B27002_027E\": \"75+ Male Priv HI Total\",\n",
    "    \"B27002_019E\": \"45-54 Male with Priv\",\n",
    "    \"B27002_022E\": \"55-64 Male with Priv\",\n",
    "    \"B27002_025E\": \"65-74 Male with Priv\",\n",
    "    \"B27002_028E\": \"75+ Male with Priv\",\n",
    "    \"B27003_019E\": \"45-54 Male with Pub\",\n",
    "    \"B27003_022E\": \"55-64 Male with Pub\",\n",
    "    \"B27003_025E\": \"65-74 Male with Pub\",\n",
    "    \"B27003_028E\": \"75+ Male with Pub\",\n",
    "    \"B27001_002E\": \"Total Male HI\",\n",
    "    \"B27001_018E\": \"45-54 Male HI Total\",\n",
    "    \"B27001_021E\": \"55-64 Male HI Total\",\n",
    "    \"B27001_024E\": \"65-74 Male HI Total\",\n",
    "    \"B27001_027E\": \"75+ Male HI Total\",\n",
    "    \"B27001_020E\": \"45-54 Male no HI\",\n",
    "    \"B27001_023E\": \"55-64 Male no HI\",\n",
    "    \"B27001_026E\": \"65-74 Male no HI\",\n",
    "    \"B27001_029E\": \"75+ Male no HI\",\n",
    "    \"C27001B_001E\": \"Black HI Total\",\n",
    "    \"C27001B_004E\": \"19- Black no HI\",\n",
    "    \"C27001B_007E\": \"19-64 Black no HI\",\n",
    "    \"C27001B_010E\": \"65+ Black no HI\",\n",
    "    \n",
    "})\n",
    "\n",
    "householder_var_dict = OrderedDict({\n",
    "    \"B19001B_001E\": \"Black Householders\",\n",
    "    \"B19001B_002E\": \"Black Householders less than 10K\",\n",
    "    \"B19001B_003E\": \"Black Householders 10-15K\",\n",
    "    \"B19001B_004E\": \"Black Householders 15-20K\",\n",
    "    \"B19001B_005E\": \"Black Householders 20-25K\", \n",
    "    \"B19001B_006E\": \"Black Householders 25-30K\",\n",
    "    \"B19001B_007E\": \"Black Householders 30-35K\",\n",
    "    \"B19001B_008E\": \"Black Householders 35-40K\",\n",
    "    \"B19037B_037E\": \"B19037B_037E\",\n",
    "    \"B19037B_038E\": \"B19037B_038E\",\n",
    "    \"B19037B_039E\": \"B19037B_039E\",\n",
    "    \"B19037B_040E\": \"B19037B_040E\",\n",
    "    \"B19037B_041E\": \"B19037B_041E\",\n",
    "    \"B19037B_042E\": \"B19037B_042E\",\n",
    "    \"B19037B_043E\": \"B19037B_043E\",\n",
    "    \"B19037B_054E\": \"B19037B_054E\",\n",
    "    \"B19037B_055E\": \"B19037B_055E\",\n",
    "    \"B19037B_056E\": \"B19037B_056E\",\n",
    "    \"B19037B_057E\": \"B19037B_057E\",\n",
    "    \"B19037B_058E\": \"B19037B_058E\",\n",
    "    \"B19037B_059E\": \"B19037B_059E\",\n",
    "    \"B19037B_060E\": \"B19037B_060E\",\n",
    "})\n",
    "\n",
    "# All non-terminal df's have the state and county codes removed with iloc\n",
    "df_list = []\n",
    "df_list.append(pull_census_data(base_var_dict).iloc[:, :-2])\n",
    "df_list.append(pull_census_data(insurance_var_dict).iloc[:, :-2])\n",
    "df_list.append(pull_census_data(householder_var_dict))\n",
    "\n",
    "df = pd.concat([*df_list], axis=1)"
   ]
  },
  {
   "cell_type": "code",
   "execution_count": 9,
   "metadata": {},
   "outputs": [],
   "source": [
    "# Get \"FIPS\" code for state/county \n",
    "df[\"code\"] = df[\"state\"] + df[\"county\"]\n",
    "df = df.set_index(\"code\")\n",
    "\n",
    "# Split county and state names\n",
    "temp = df[\"Full Name\"].str.split(\",\", expand=True)\n",
    "df[\"County Name\"] = temp[0]\n",
    "df[\"State Name\"] = temp[1].str.strip()"
   ]
  },
  {
   "cell_type": "code",
   "execution_count": 10,
   "metadata": {},
   "outputs": [],
   "source": [
    "# Process data\n",
    "df = column_to_int(df, df.columns[1:-2])\n",
    "\n",
    "# Convert to int64 to avoid overflow error\n",
    "df[\"Total Pop\"] = df[\"Total Pop\"].astype(np.int64)\n",
    "df[\"Per capita income\"] = df[\"Per capita income\"].astype(np.int64)\n",
    "\n",
    "df[\"Black Men Over 44\"] = df[\"Black Men 45-54\"] + df[\"Black Men 55-64\"] + df[\"Black Men Over 64\"]\n",
    "df[\"Percent Black Men Over 44\"] = (df[\"Black Men Over 44\"] / df[\"Total Pop\"]) * 100\n",
    "df[\"Percent Black\"] = (df[\"Total Black\"] / df[\"Total Pop\"]) * 100\n",
    "df[\"Percent Partial Black\"] = (df[\"Partial Black\"] / df[\"Total Pop\"]) * 100\n",
    "\n",
    "df[\"Total income\"] = (df[\"Total Pop\"] * df[\"Per capita income\"])\n",
    "\n",
    "df[\"45+ Male Priv HI Total\"] = df[[\"45-54 Male Priv HI Total\", \"55-64 Male Priv HI Total\", \"65-74 Male Priv HI Total\", \"75+ Male Priv HI Total\"]].sum(axis=1)\n",
    "df[\"45+ Male with Priv\"] = df[[\"45-54 Male with Priv\", \"55-64 Male with Priv\", \"65-74 Male with Priv\", \"75+ Male with Priv\"]].sum(axis=1)\n",
    "df[\"45+ Male with Pub\"] = df[[\"45-54 Male with Pub\", \"55-64 Male with Pub\", \"65-74 Male with Pub\", \"75+ Male with Pub\",]].sum(axis=1)\n",
    "\n",
    "df[\"45+ Male HI Total\"] = df[[\"45-54 Male HI Total\", \"55-64 Male HI Total\", \"65-74 Male HI Total\", \"75+ Male HI Total\"]].sum(axis=1)\n",
    "df[\"45+ Male no HI\"] = df[[\"45-54 Male no HI\", \"55-64 Male no HI\", \"65-74 Male no HI\", \"75+ Male no HI\"]].sum(axis=1)\n",
    "\n",
    "df[\"Percent 45+ Men with Priv\"] = df[\"45+ Male with Priv\"] / df[\"45+ Male Priv HI Total\"]\n",
    "df[\"Percent 45+ Men with Pub\"] = df[\"45+ Male with Pub\"] / df[\"45+ Male Priv HI Total\"]\n",
    "\n",
    "df[\"Percent 45+ Men no HI\"] = df[\"45+ Male no HI\"] / df[\"45+ Male HI Total\"]\n",
    "\n",
    "df[\"Black Householders under 30K\"] = (\n",
    "    df[\"Black Householders less than 10K\"] + \n",
    "    df[\"Black Householders 10-15K\"] + \n",
    "    df[\"Black Householders 15-20K\"] + \n",
    "    df[\"Black Householders 20-25K\"] + \n",
    "    df[\"Black Householders 25-30K\"]\n",
    ")\n",
    "\n",
    "df[\"Black Householders under 40K\"] = (\n",
    "    df[\"Black Householders less than 10K\"] + \n",
    "    df[\"Black Householders 10-15K\"] + \n",
    "    df[\"Black Householders 15-20K\"] + \n",
    "    df[\"Black Householders 20-25K\"] + \n",
    "    df[\"Black Householders 25-30K\"] + \n",
    "    df[\"Black Householders 30-35K\"] + \n",
    "    df[\"Black Householders 35-40K\"]\n",
    ")\n",
    "\n",
    "df[\"Black Householders over 44 under 30K\"] = (\n",
    "    df[\"B19037B_037E\"] + \n",
    "    df[\"B19037B_038E\"] + \n",
    "    df[\"B19037B_039E\"] + \n",
    "    df[\"B19037B_040E\"] + \n",
    "    df[\"B19037B_041E\"] + \n",
    "\n",
    "    df[\"B19037B_054E\"] +\n",
    "    df[\"B19037B_055E\"] +\n",
    "    df[\"B19037B_056E\"] +\n",
    "    df[\"B19037B_057E\"] +\n",
    "    df[\"B19037B_058E\"]\n",
    "\n",
    ")\n",
    "\n",
    "df[\"Black Householders over 44 under 40K\"] = (\n",
    "    df[\"B19037B_037E\"] + \n",
    "    df[\"B19037B_038E\"] + \n",
    "    df[\"B19037B_039E\"] + \n",
    "    df[\"B19037B_040E\"] + \n",
    "    df[\"B19037B_041E\"] + \n",
    "    df[\"B19037B_042E\"] + \n",
    "    df[\"B19037B_043E\"] + \n",
    "    \n",
    "    df[\"B19037B_054E\"] +\n",
    "    df[\"B19037B_055E\"] +\n",
    "    df[\"B19037B_056E\"] +\n",
    "    df[\"B19037B_057E\"] +\n",
    "    df[\"B19037B_058E\"] +\n",
    "    df[\"B19037B_059E\"] +\n",
    "    df[\"B19037B_060E\"]\n",
    ")"
   ]
  },
  {
   "cell_type": "code",
   "execution_count": 11,
   "metadata": {},
   "outputs": [],
   "source": [
    "thresh = 30\n",
    "black_df = df[df[\"Percent Black\"] > thresh]\n",
    "other_df = df[df[\"Percent Black\"] <= thresh]"
   ]
  },
  {
   "cell_type": "markdown",
   "metadata": {},
   "source": [
    "## Population Distribution"
   ]
  },
  {
   "cell_type": "code",
   "execution_count": 32,
   "metadata": {},
   "outputs": [],
   "source": [
    "county_map(df, \"Percent Black\", [5, 10, 15, 20, 25])"
   ]
  },
  {
   "cell_type": "code",
   "execution_count": 13,
   "metadata": {},
   "outputs": [],
   "source": [
    "county_map(df, \"Percent Black Men Over 44\", [1, 2, 3, 4, 5])"
   ]
  },
  {
   "cell_type": "code",
   "execution_count": 14,
   "metadata": {},
   "outputs": [],
   "source": [
    "county_map(df, \"Total Black\", [1000, 5000, 10000, 15000, 20000])"
   ]
  },
  {
   "cell_type": "code",
   "execution_count": 15,
   "metadata": {},
   "outputs": [
    {
     "name": "stdout",
     "output_type": "stream",
     "text": [
      "Black county count by state\n"
     ]
    },
    {
     "data": {
      "text/plain": [
       "Georgia                 67\n",
       "Mississippi             56\n",
       "Louisiana               34\n",
       "North Carolina          32\n",
       "Virginia                31\n",
       "Alabama                 27\n",
       "South Carolina          27\n",
       "Arkansas                18\n",
       "Puerto Rico              8\n",
       "Tennessee                5\n",
       "Florida                  5\n",
       "Maryland                 4\n",
       "New York                 2\n",
       "Illinois                 2\n",
       "Missouri                 1\n",
       "Michigan                 1\n",
       "Pennsylvania             1\n",
       "New Jersey               1\n",
       "District of Columbia     1\n",
       "Texas                    1\n",
       "Name: State Name, dtype: int64"
      ]
     },
     "execution_count": 15,
     "metadata": {},
     "output_type": "execute_result"
    }
   ],
   "source": [
    "print(\"Black county count by state\")\n",
    "df[df[\"Percent Black\"] > 30][\"State Name\"].value_counts()"
   ]
  },
  {
   "cell_type": "code",
   "execution_count": 16,
   "metadata": {},
   "outputs": [
    {
     "name": "stdout",
     "output_type": "stream",
     "text": [
      "The top eight states above contain 30.86% of the total U.S. Black population.\n"
     ]
    }
   ],
   "source": [
    "interest_states = [\"Georgia\", \"Mississippi\", \"Louisiana\", \"North Carolina\", \"Virginia\", \"South Carolina\", \"Alabama\", \"Arkansas\"]\n",
    "percent_black_in_interest_states = round(df[df[\"State Name\"].isin(interest_states)][\"Total Black\"].astype(int).sum() / df[\"Total Black\"].sum() * 100, 2)\n",
    "print(f\"The top eight states above contain {percent_black_in_interest_states}% of the total U.S. Black population.\")"
   ]
  },
  {
   "cell_type": "markdown",
   "metadata": {},
   "source": [
    "## Internet/Computers"
   ]
  },
  {
   "cell_type": "code",
   "execution_count": 17,
   "metadata": {},
   "outputs": [
    {
     "name": "stdout",
     "output_type": "stream",
     "text": [
      "All county Black households with a computer: 90.12%\n",
      "All county Black households with broadband: 78.54%\n",
      "All county Black households with dial-up: 0.2%\n"
     ]
    }
   ],
   "source": [
    "black_all_county_with_computer = round(df[\"Black Household with Computer\"].sum() / df[\"Total Black Household Computer\"].sum() * 100, 2)\n",
    "black_all_county_with_broadband = round(df[\"Black Household with Broadband\"].sum() / df[\"Total Black Household Computer\"].sum() * 100, 2)\n",
    "black_all_county_with_dialup = round(df[\"Black Household with Dialup\"].sum() / df[\"Total Black Household Computer\"].sum() * 100, 2)\n",
    "print(f\"All county Black households with a computer: {black_all_county_with_computer}%\")\n",
    "print(f\"All county Black households with broadband: {black_all_county_with_broadband}%\")\n",
    "print(f\"All county Black households with dial-up: {black_all_county_with_dialup}%\")"
   ]
  },
  {
   "cell_type": "code",
   "execution_count": 18,
   "metadata": {},
   "outputs": [
    {
     "name": "stdout",
     "output_type": "stream",
     "text": [
      "Black county with computer: 86.81%\n",
      "Other county with computer: 90.45%\n"
     ]
    }
   ],
   "source": [
    "black_with_computer = round(black_df[\"Household with Computer\"].sum() / black_df[\"Total Computers\"].sum() * 100, 2)\n",
    "other_with_computer = round(other_df[\"Household with Computer\"].sum() / other_df[\"Total Computers\"].sum() * 100, 2)\n",
    "print(f\"Black county with computer: {black_with_computer}%\")\n",
    "print(f\"Other county with computer: {other_with_computer}%\")"
   ]
  },
  {
   "cell_type": "code",
   "execution_count": 19,
   "metadata": {},
   "outputs": [
    {
     "name": "stdout",
     "output_type": "stream",
     "text": [
      "Black county with computer: 77.66%\n",
      "Other county with computer: 79.97%\n"
     ]
    }
   ],
   "source": [
    "black_with_phone = round(black_df[\"Household with Smartphone\"].sum() / black_df[\"Total Computers\"].sum() * 100, 2)\n",
    "other_with_phone = round(other_df[\"Household with Smartphone\"].sum() / other_df[\"Total Computers\"].sum() * 100, 2)\n",
    "print(f\"Black county with computer: {black_with_phone}%\")\n",
    "print(f\"Other county with computer: {other_with_phone}%\")"
   ]
  },
  {
   "cell_type": "code",
   "execution_count": 20,
   "metadata": {},
   "outputs": [
    {
     "name": "stdout",
     "output_type": "stream",
     "text": [
      "Black county with computer: 9.74%\n",
      "Other county with computer: 6.82%\n"
     ]
    }
   ],
   "source": [
    "black_with_only_phone = round(black_df[\"Household with only Smartphone\"].sum() / black_df[\"Total Computers\"].sum() * 100, 2)\n",
    "other_with_only_phone = round(other_df[\"Household with only Smartphone\"].sum() / other_df[\"Total Computers\"].sum() * 100, 2)\n",
    "print(f\"Black county with computer: {black_with_only_phone}%\")\n",
    "print(f\"Other county with computer: {other_with_only_phone}%\")"
   ]
  },
  {
   "cell_type": "code",
   "execution_count": 21,
   "metadata": {},
   "outputs": [
    {
     "name": "stdout",
     "output_type": "stream",
     "text": [
      "Black county with internet: 77.2%\n",
      "Other county with internet: 83.41%\n"
     ]
    }
   ],
   "source": [
    "black_with_internet = round(black_df[\"With Internet\"].sum() / black_df[\"Total Internet\"].sum() * 100, 2)\n",
    "other_with_internet = round(other_df[\"With Internet\"].sum() / other_df[\"Total Internet\"].sum() * 100, 2)\n",
    "print(f\"Black county with internet: {black_with_internet}%\")\n",
    "print(f\"Other county with internet: {other_with_internet}%\")"
   ]
  },
  {
   "cell_type": "markdown",
   "metadata": {},
   "source": [
    "## Income"
   ]
  },
  {
   "cell_type": "code",
   "execution_count": 22,
   "metadata": {},
   "outputs": [
    {
     "name": "stdout",
     "output_type": "stream",
     "text": [
      "Black county per capita income: 29843\n",
      "Other county per capita income: 34307\n"
     ]
    }
   ],
   "source": [
    "black_per_cap = round(black_df[\"Total income\"].sum() / black_df[\"Total Pop\"].sum())\n",
    "other_per_cap = round(other_df[\"Total income\"].sum() / other_df[\"Total Pop\"].sum())\n",
    "print(f\"Black county per capita income: {black_per_cap}\")\n",
    "print(f\"Other county per capita income: {other_per_cap}\")"
   ]
  },
  {
   "cell_type": "markdown",
   "metadata": {},
   "source": [
    "## Transportation"
   ]
  },
  {
   "cell_type": "code",
   "execution_count": 23,
   "metadata": {},
   "outputs": [
    {
     "name": "stdout",
     "output_type": "stream",
     "text": [
      "Black county workers with no vehicle access: 11.054%\n",
      "Other county workers with no vehicle access: 3.604%\n"
     ]
    }
   ],
   "source": [
    "black_no_vehicle = round(black_df[\"No vehicle\"].sum() / black_df[\"Total Vehicle\"].sum() * 100, 3)\n",
    "other_no_vehicle = round(other_df[\"No vehicle\"].sum() / other_df[\"Total Vehicle\"].sum() * 100, 3)\n",
    "\n",
    "print(f\"Black county workers with no vehicle access: {black_no_vehicle}%\")\n",
    "print(f\"Other county workers with no vehicle access: {other_no_vehicle}%\")"
   ]
  },
  {
   "cell_type": "code",
   "execution_count": 24,
   "metadata": {},
   "outputs": [
    {
     "name": "stdout",
     "output_type": "stream",
     "text": [
      "Black county MALE workers with no vehicle access: 10.324%\n",
      "Other county MALE workers with no vehicle access: 3.554%\n"
     ]
    }
   ],
   "source": [
    "black_men_no_vehicle = round(black_df[\"Men no vehicle\"].sum() / black_df[\"Total Vehicle Male\"].sum() * 100, 3)\n",
    "other_men_no_vehicle = round(other_df[\"Men no vehicle\"].sum() / other_df[\"Total Vehicle Male\"].sum() * 100, 3)\n",
    "\n",
    "print(f\"Black county MALE workers with no vehicle access: {black_men_no_vehicle}%\")\n",
    "print(f\"Other county MALE workers with no vehicle access: {other_men_no_vehicle}%\")"
   ]
  },
  {
   "cell_type": "code",
   "execution_count": 25,
   "metadata": {},
   "outputs": [
    {
     "name": "stdout",
     "output_type": "stream",
     "text": [
      "Black county taking public transit to work: 13.078%\n",
      "Other county taking public transit to work: 4.19%\n"
     ]
    }
   ],
   "source": [
    "# The census website claims the overall figure should be 5% which doesn't match this finding. \n",
    "black_public_trans = round(black_df[\"Public trans\"].sum() / black_df[\"Total Trans\"].sum() * 100, 3)\n",
    "other_public_trans = round(other_df[\"Public trans\"].sum() / other_df[\"Total Trans\"].sum() * 100, 3)\n",
    "\n",
    "print(f\"Black county taking public transit to work: {black_public_trans}%\")\n",
    "print(f\"Other county taking public transit to work: {other_public_trans}%\")"
   ]
  },
  {
   "cell_type": "markdown",
   "metadata": {},
   "source": [
    "## Health Insurance"
   ]
  },
  {
   "cell_type": "code",
   "execution_count": 26,
   "metadata": {},
   "outputs": [
    {
     "name": "stdout",
     "output_type": "stream",
     "text": [
      "Black county men over 44 with private health insurance: 61.21%\n",
      "Other county men over 44 with private health insurance: 68.54%\n",
      "Black county men over 44 with public health insurance: 54.15%\n",
      "Other county men over 44 with public health insurance: 51.04%\n"
     ]
    }
   ],
   "source": [
    "black_older_men_with_priv = round(black_df[\"Percent 45+ Men with Priv\"].mean() * 100, 2)\n",
    "other_older_men_with_priv = round(other_df[\"Percent 45+ Men with Priv\"].mean() * 100, 2)\n",
    "black_older_men_with_pub = round(black_df[\"Percent 45+ Men with Pub\"].mean() * 100, 2)\n",
    "other_older_men_with_pub = round(other_df[\"Percent 45+ Men with Pub\"].mean() * 100, 2)\n",
    "\n",
    "print(f\"Black county men over 44 with private health insurance: {black_older_men_with_priv}%\")\n",
    "print(f\"Other county men over 44 with private health insurance: {other_older_men_with_priv}%\")\n",
    "print(f\"Black county men over 44 with public health insurance: {black_older_men_with_pub}%\")\n",
    "print(f\"Other county men over 44 with public health insurance: {other_older_men_with_pub}%\")"
   ]
  },
  {
   "cell_type": "code",
   "execution_count": 27,
   "metadata": {},
   "outputs": [
    {
     "name": "stdout",
     "output_type": "stream",
     "text": [
      "All county men over 44 with no health insurance: 7.14%\n",
      "Black county men over 44 with no health insurance: 8.88%\n",
      "Other county men over 44 with no health insurance: 6.95%\n"
     ]
    }
   ],
   "source": [
    "all_county_older_men_no_HI = round(df[\"Percent 45+ Men no HI\"].mean() * 100, 2)\n",
    "black_older_men_no_HI = round(black_df[\"Percent 45+ Men no HI\"].mean() * 100, 2)\n",
    "other_older_men_no_HI = round(other_df[\"Percent 45+ Men no HI\"].mean() * 100, 2)\n",
    "\n",
    "print(f\"All county men over 44 with no health insurance: {all_county_older_men_no_HI}%\")\n",
    "print(f\"Black county men over 44 with no health insurance: {black_older_men_no_HI}%\")\n",
    "print(f\"Other county men over 44 with no health insurance: {other_older_men_no_HI}%\")"
   ]
  },
  {
   "cell_type": "markdown",
   "metadata": {},
   "source": [
    "## Householder Income Counts"
   ]
  },
  {
   "cell_type": "code",
   "execution_count": 28,
   "metadata": {},
   "outputs": [
    {
     "name": "stdout",
     "output_type": "stream",
     "text": [
      "Black householders making under 30K: 5649512\n",
      "Black householders making under 40K: 7265827\n",
      "Black householders older than 44 making under 30K: 3406973\n",
      "Black householders older than 44 making under 40K: 4285536\n"
     ]
    }
   ],
   "source": [
    "print(f\"Black householders making under 30K: {df['Black Householders under 30K'].sum()}\")\n",
    "print(f\"Black householders making under 40K: {df['Black Householders under 40K'].sum()}\")\n",
    "print(f\"Black householders older than 44 making under 30K: {df['Black Householders over 44 under 30K'].sum()}\")\n",
    "print(f\"Black householders older than 44 making under 40K: {df['Black Householders over 44 under 40K'].sum()}\")"
   ]
  },
  {
   "cell_type": "markdown",
   "metadata": {},
   "source": [
    "## Education"
   ]
  },
  {
   "cell_type": "code",
   "execution_count": 29,
   "metadata": {},
   "outputs": [
    {
     "name": "stdout",
     "output_type": "stream",
     "text": [
      "Less than high school degree: 12.12%\n",
      "Black males with less than high school degree: 15.49%\n",
      "White males with less than high school degree: 10.9%\n"
     ]
    }
   ],
   "source": [
    "all_county_less_than_high_school = round(df[\"Less than High School\"].sum() / df[\"Education Total\"].sum() * 100, 2)\n",
    "all_county_black_male_less_than_high_school = round(df[\"Black Male Less than High School\"].sum() / df[\"Education Black Male Total\"].sum() * 100, 2)\n",
    "all_county_white_male_less_than_high_school = round(df[\"White Male Less than High School\"].sum() / df[\"Education White Male Total\"].sum() * 100, 2)\n",
    "\n",
    "print(f\"Less than high school degree: {all_county_less_than_high_school}%\")\n",
    "print(f\"Black males with less than high school degree: {all_county_black_male_less_than_high_school}%\")\n",
    "print(f\"White males with less than high school degree: {all_county_white_male_less_than_high_school}%\")"
   ]
  },
  {
   "cell_type": "code",
   "execution_count": 30,
   "metadata": {},
   "outputs": [
    {
     "name": "stdout",
     "output_type": "stream",
     "text": [
      "Black county people with less than high school degree: 14.41%\n",
      "Other county people with less than high school degree: 11.89%\n"
     ]
    }
   ],
   "source": [
    "black_county_less_than_high_school = round(black_df[\"Less than High School\"].sum() / black_df[\"Education Total\"].sum() * 100, 2)\n",
    "other_county_less_than_high_school = round(other_df[\"Less than High School\"].sum() / other_df[\"Education Total\"].sum() * 100, 2)\n",
    "print(f\"Black county people with less than high school degree: {black_county_less_than_high_school}%\")\n",
    "print(f\"Other county people with less than high school degree: {other_county_less_than_high_school}%\")"
   ]
  }
 ],
 "metadata": {
  "kernelspec": {
   "display_name": "Python 3",
   "language": "python",
   "name": "python3"
  },
  "language_info": {
   "codemirror_mode": {
    "name": "ipython",
    "version": 3
   },
   "file_extension": ".py",
   "mimetype": "text/x-python",
   "name": "python",
   "nbconvert_exporter": "python",
   "pygments_lexer": "ipython3",
   "version": "3.7.6"
  }
 },
 "nbformat": 4,
 "nbformat_minor": 4
}
