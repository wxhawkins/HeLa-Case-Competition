{
 "cells": [
  {
   "cell_type": "markdown",
   "metadata": {},
   "source": [
    "## Imports"
   ]
  },
  {
   "cell_type": "code",
   "execution_count": 1,
   "metadata": {},
   "outputs": [],
   "source": [
    "import numpy as np\n",
    "import pandas as pd\n",
    "import requests\n",
    "from collections import OrderedDict\n",
    "\n",
    "import plotly.figure_factory as ff\n",
    "from plotly import offline\n",
    "from plotly.graph_objs import *\n",
    "\n",
    "pd.options.display.max_columns = 100\n",
    "\n",
    "# Key is required to access census data\n",
    "with open(\"./Census Key.txt\", \"r\") as f:\n",
    "    key = f.read()"
   ]
  },
  {
   "cell_type": "markdown",
   "metadata": {},
   "source": [
    "## Functions"
   ]
  },
  {
   "cell_type": "code",
   "execution_count": 2,
   "metadata": {},
   "outputs": [],
   "source": [
    "# Small proof of concept\n",
    "fips = [\"06021\", \"06023\", \"06027\",\n",
    "        \"06029\", \"06033\", \"06059\",\n",
    "        \"06047\", \"06049\", \"06051\",\n",
    "        \"06055\", \"06061\"]\n",
    "values = range(len(fips))\n",
    "\n",
    "fig = ff.create_choropleth(fips=fips, values=values)\n",
    "fig.layout.template = None\n",
    "\n",
    "fig.layout.plot_bgcolor = \"#fff\"\n",
    "fig.layout.paper_bgcolor = \"#fff\"\n",
    "# offline.plot(fig, filename=\"temp_out.html\")\n",
    "# fig.show()"
   ]
  },
  {
   "cell_type": "code",
   "execution_count": 3,
   "metadata": {},
   "outputs": [],
   "source": [
    "def json_to_dataframe(response):\n",
    "    \"\"\"\n",
    "        Convert json response to dataframe.\n",
    "    \"\"\"\n",
    "    return pd.DataFrame(response.json()[1:], columns=response.json()[0])"
   ]
  },
  {
   "cell_type": "code",
   "execution_count": 4,
   "metadata": {},
   "outputs": [],
   "source": [
    "def column_to_int(df, *column_names):\n",
    "    \"\"\"\n",
    "        Convert data type to int.\n",
    "    \"\"\"\n",
    "    for name in column_names:\n",
    "        df[name] = df[name].astype(int)\n",
    "        \n",
    "    return df"
   ]
  },
  {
   "cell_type": "code",
   "execution_count": 5,
   "metadata": {},
   "outputs": [],
   "source": [
    "def get_endpoints(df, var, num_endpoints=5):\n",
    "    \"\"\" Automatically determine bins for plot legend. \"\"\"\n",
    "    endpoints = []\n",
    "    step = round(1 / (num_endpoints + 2), 3)\n",
    "    \n",
    "    quant = step\n",
    "    for i in range(num_endpoints):\n",
    "        print(quant)\n",
    "        endpoints.append(round(df[var].quantile(quant), 3))\n",
    "        quant += step\n",
    "        \n",
    "    return endpoints"
   ]
  },
  {
   "cell_type": "code",
   "execution_count": 6,
   "metadata": {},
   "outputs": [],
   "source": [
    "def county_map(df, var, endpoints=None):\n",
    "    \"\"\" Generate county map. \"\"\"\n",
    "    \n",
    "    fips = df.index\n",
    "    values = df[var]\n",
    "    if endpoints is None:\n",
    "        endpoints = get_endpoints(df, var)\n",
    "    \n",
    "    # Blue\n",
    "    colorscale = [\n",
    "        \"rgb(220, 220, 220)\",\n",
    "        \"rgb(218,218,230)\",\n",
    "        \"rgb(185, 185, 220)\",\n",
    "        \"rgb(144,148,194)\",\n",
    "        \"rgb(101,104,168)\",\n",
    "        \"rgb(65, 53, 132)\"\n",
    "    ]\n",
    "    \n",
    "    # Red\n",
    "#     colorscale = [\n",
    "#         \"rgb(220, 220, 220)\",\n",
    "#         \"rgb(250, 210, 216)\",\n",
    "#         \"rgb(245, 183, 177)\",\n",
    "#         \"rgb(236, 112, 99)\",\n",
    "#         \"rgb(203, 67, 53)\",\n",
    "#         \"rgb(148, 49, 38)\"\n",
    "#     ]\n",
    "\n",
    "    # Create plot\n",
    "    fig = ff.create_choropleth(\n",
    "        fips=fips, values=values,\n",
    "        binning_endpoints=endpoints, colorscale=colorscale,\n",
    "        state_outline={\"color\": \"rgb(0, 0, 0)\", \"width\": 1},\n",
    "        county_outline={\"color\": \"rgb(255,255,255)\", \"width\": 0.5}, round_legend_values=False,\n",
    "        legend_title=f\"{var} ({year})\", title=f\"{var} by County ({year})\",\n",
    "        show_state_data=True,\n",
    "        show_hover=True,\n",
    "        \n",
    "    )\n",
    "\n",
    "#     config = dict({\"scrollZoom\": True})\n",
    "    fig.layout.template = None\n",
    "\n",
    "    # Set background\n",
    "    fig.layout.plot_bgcolor = \"#fff\"\n",
    "    fig.layout.paper_bgcolor = \"#fff\"\n",
    "\n",
    "    # Output plot (include_plotlyjs required for hover info)\n",
    "    offline.plot(fig, filename=\"temp_out.html\", include_plotlyjs=\"https://cdn.plot.ly/plotly-1.42.3.min.js\")"
   ]
  },
  {
   "cell_type": "markdown",
   "metadata": {},
   "source": [
    "## Main"
   ]
  },
  {
   "cell_type": "code",
   "execution_count": 7,
   "metadata": {},
   "outputs": [],
   "source": [
    "# Pull down data from census\n",
    "year = \"2019\"\n",
    "\n",
    "var_dict = OrderedDict({\n",
    "    \"NAME\": \"Full Name\", \n",
    "    \"B01001_002E\": \"Total Male\",\n",
    "    \"B01001B_002E\": \"Black Men\",\n",
    "    \"B01001B_012E\": \"Black Men 45-54\",\n",
    "    \"B01001B_013E\": \"Black Men 55-64\",\n",
    "    \"C23002B_010E\": \"Black Men Over 64\", \n",
    "    \"B01001_001E\": \"Total Pop\", \n",
    "    \"B02001_003E\": \"Total Black\",\n",
    "    \"B02009_001E\": \"Partial Black\",\n",
    "    \"B19013_001E\": \"Median household income\",\n",
    "    \"B19301_001E\": \"Per capita income\",\n",
    "    \"B08014_002E\": \"No vehicle\",\n",
    "    \"B08014_009E\": \"Men no vehicle\",\n",
    "    \"B08101_025E\": \"Public trans\",\n",
    "    \"B27002_018E\": \"45-54 Male Priv HI Total\",\n",
    "    \"B27002_021E\": \"55-64 Male Priv HI Total\",\n",
    "    \"B27002_024E\": \"65-74 Male Priv HI Total\",\n",
    "    \"B27002_027E\": \"75+ Male Priv HI Total\",\n",
    "    \"B27002_019E\": \"45-54 Male with Priv\",\n",
    "    \"B27002_022E\": \"55-64 Male with Priv\",\n",
    "    \"B27002_025E\": \"65-74 Male with Priv\",\n",
    "    \"B27002_028E\": \"75+ Male with Priv\",\n",
    "    \"B27003_019E\": \"45-54 Male with Pub\",\n",
    "    \"B27003_022E\": \"55-64 Male with Pub\",\n",
    "    \"B27003_025E\": \"65-74 Male with Pub\",\n",
    "    \"B27003_028E\": \"75+ Male with Pub\",\n",
    "    \"B19001B_001E\": \"Black Householders\",\n",
    "    \"B19001B_002E\": \"Black Householders less than 10K\",\n",
    "    \"B19001B_003E\": \"Black Householders 10-15K\",\n",
    "    \"B19001B_004E\": \"Black Householders 15-20K\",\n",
    "    \"B19001B_005E\": \"Black Householders 20-25K\", \n",
    "    \"B19001B_006E\": \"Black Householders 25-30K\",\n",
    "    \"B19001B_007E\": \"Black Householders 30-35K\",\n",
    "    \"B19001B_008E\": \"Black Householders 35-40K\",\n",
    "    \"B19037B_037E\": \"B19037B_037E\",\n",
    "    \"B19037B_038E\": \"B19037B_038E\",\n",
    "    \"B19037B_039E\": \"B19037B_039E\",\n",
    "    \"B19037B_040E\": \"B19037B_040E\",\n",
    "    \"B19037B_041E\": \"B19037B_041E\",\n",
    "    \"B19037B_042E\": \"B19037B_042E\",\n",
    "    \"B19037B_043E\": \"B19037B_043E\",\n",
    "    \"B19037B_054E\": \"B19037B_054E\",\n",
    "    \"B19037B_055E\": \"B19037B_055E\",\n",
    "    \"B19037B_056E\": \"B19037B_056E\",\n",
    "    \"B19037B_057E\": \"B19037B_057E\",\n",
    "    \"B19037B_058E\": \"B19037B_058E\",\n",
    "    \"B19037B_059E\": \"B19037B_059E\",\n",
    "    \"B19037B_060E\": \"B19037B_060E\",\n",
    "})\n",
    "\n",
    "var_string = \",\".join(var_dict.keys())\n",
    "\n",
    "url = f\"https://api.census.gov/data/{year}/acs/acs5/?get={var_string}&for=county:*&in=state:*&key={key}\"\n",
    "\n",
    "response = requests.request(\"GET\", url)\n",
    "\n",
    "df = json_to_dataframe(response)\n",
    "df = df.rename(columns=var_dict)\n",
    "\n",
    "\n",
    "# Get \"FIPS\" code for state/county \n",
    "df[\"code\"] = df[\"state\"] + df[\"county\"]\n",
    "df = df.set_index(\"code\")\n",
    "\n",
    "# Split county and state names\n",
    "temp = df[\"Full Name\"].str.split(\",\", expand=True)\n",
    "df[\"County Name\"] = temp[0]\n",
    "df[\"State Name\"] = temp[1].str.strip()"
   ]
  },
  {
   "cell_type": "code",
   "execution_count": 8,
   "metadata": {},
   "outputs": [],
   "source": [
    "# Process data\n",
    "df = column_to_int(df, df.columns[1:-2])\n",
    "\n",
    "# Convert to int64 to avoid overflow error\n",
    "df[\"Total Pop\"] = df[\"Total Pop\"].astype(np.int64)\n",
    "df[\"Per capita income\"] = df[\"Per capita income\"].astype(np.int64)\n",
    "\n",
    "df[\"Black Men Over 44\"] = df[\"Black Men 45-54\"] + df[\"Black Men 55-64\"] + df[\"Black Men Over 64\"]\n",
    "df[\"Percent Black Men Over 44\"] = (df[\"Black Men Over 44\"] / df[\"Total Pop\"]) * 100\n",
    "df[\"Percent Black\"] = (df[\"Total Black\"] / df[\"Total Pop\"]) * 100\n",
    "df[\"Percent Partial Black\"] = (df[\"Partial Black\"] / df[\"Total Pop\"]) * 100\n",
    "\n",
    "df[\"Total income\"] = (df[\"Total Pop\"] * df[\"Per capita income\"])\n",
    "\n",
    "df[\"44+ Male Priv HI Total\"] = df[[\"45-54 Male Priv HI Total\", \"55-64 Male Priv HI Total\", \"65-74 Male Priv HI Total\", \"75+ Male Priv HI Total\"]].sum(axis=1)\n",
    "df[\"44+ Male with Priv\"] = df[[\"45-54 Male with Priv\", \"55-64 Male with Priv\", \"65-74 Male with Priv\", \"75+ Male with Priv\"]].sum(axis=1)\n",
    "df[\"44+ Male with Pub\"] = df[[\"45-54 Male with Pub\", \"55-64 Male with Pub\", \"65-74 Male with Pub\", \"75+ Male with Pub\",]].sum(axis=1)\n",
    "\n",
    "df[\"Percent 44+ Men with Priv\"] = df[\"44+ Male with Priv\"] / df[\"44+ Male Priv HI Total\"]\n",
    "df[\"Percent 44+ Men with Pub\"] = df[\"44+ Male with Pub\"] / df[\"44+ Male Priv HI Total\"]\n",
    "\n",
    "df[\"Black Householders under 30K\"] = (\n",
    "    df[\"Black Householders less than 10K\"] + \n",
    "    df[\"Black Householders 10-15K\"] + \n",
    "    df[\"Black Householders 15-20K\"] + \n",
    "    df[\"Black Householders 20-25K\"] + \n",
    "    df[\"Black Householders 25-30K\"]\n",
    ")\n",
    "\n",
    "df[\"Black Householders under 40K\"] = (\n",
    "    df[\"Black Householders less than 10K\"] + \n",
    "    df[\"Black Householders 10-15K\"] + \n",
    "    df[\"Black Householders 15-20K\"] + \n",
    "    df[\"Black Householders 20-25K\"] + \n",
    "    df[\"Black Householders 25-30K\"] + \n",
    "    df[\"Black Householders 30-35K\"] + \n",
    "    df[\"Black Householders 35-40K\"]\n",
    ")\n",
    "\n",
    "df[\"Black Householders over 44 under 30K\"] = (\n",
    "    df[\"B19037B_037E\"] + \n",
    "    df[\"B19037B_038E\"] + \n",
    "    df[\"B19037B_039E\"] + \n",
    "    df[\"B19037B_040E\"] + \n",
    "    df[\"B19037B_041E\"] + \n",
    "\n",
    "    df[\"B19037B_054E\"] +\n",
    "    df[\"B19037B_055E\"] +\n",
    "    df[\"B19037B_056E\"] +\n",
    "    df[\"B19037B_057E\"] +\n",
    "    df[\"B19037B_058E\"]\n",
    "\n",
    ")\n",
    "\n",
    "df[\"Black Householders over 44 under 40K\"] = (\n",
    "    df[\"B19037B_037E\"] + \n",
    "    df[\"B19037B_038E\"] + \n",
    "    df[\"B19037B_039E\"] + \n",
    "    df[\"B19037B_040E\"] + \n",
    "    df[\"B19037B_041E\"] + \n",
    "    df[\"B19037B_042E\"] + \n",
    "    df[\"B19037B_043E\"] + \n",
    "    \n",
    "    df[\"B19037B_054E\"] +\n",
    "    df[\"B19037B_055E\"] +\n",
    "    df[\"B19037B_056E\"] +\n",
    "    df[\"B19037B_057E\"] +\n",
    "    df[\"B19037B_058E\"] +\n",
    "    df[\"B19037B_059E\"] +\n",
    "    df[\"B19037B_060E\"]\n",
    ")"
   ]
  },
  {
   "cell_type": "code",
   "execution_count": 9,
   "metadata": {},
   "outputs": [],
   "source": [
    "thresh = 30\n",
    "black_df = df[df[\"Percent Black\"] > thresh]\n",
    "other_df = df[df[\"Percent Black\"] <= thresh]"
   ]
  },
  {
   "cell_type": "markdown",
   "metadata": {},
   "source": [
    "## Population Distribution"
   ]
  },
  {
   "cell_type": "code",
   "execution_count": 130,
   "metadata": {},
   "outputs": [],
   "source": [
    "county_map(df, \"Percent Black\", [5, 10, 15, 20, 25])"
   ]
  },
  {
   "cell_type": "code",
   "execution_count": 95,
   "metadata": {},
   "outputs": [],
   "source": [
    "county_map(df, \"Percent Black Men Over 44\", [1, 2, 3, 4, 5])"
   ]
  },
  {
   "cell_type": "code",
   "execution_count": 96,
   "metadata": {},
   "outputs": [],
   "source": [
    "county_map(df, \"Total Black\", [1000, 5000, 10000, 15000, 20000])"
   ]
  },
  {
   "cell_type": "code",
   "execution_count": 10,
   "metadata": {},
   "outputs": [
    {
     "name": "stdout",
     "output_type": "stream",
     "text": [
      "Black county count by state\n"
     ]
    },
    {
     "data": {
      "text/plain": [
       "Georgia                 67\n",
       "Mississippi             56\n",
       "Louisiana               34\n",
       "North Carolina          32\n",
       "Virginia                31\n",
       "Alabama                 27\n",
       "South Carolina          27\n",
       "Arkansas                18\n",
       "Puerto Rico              8\n",
       "Tennessee                5\n",
       "Florida                  5\n",
       "Maryland                 4\n",
       "New York                 2\n",
       "Illinois                 2\n",
       "District of Columbia     1\n",
       "Texas                    1\n",
       "Pennsylvania             1\n",
       "Missouri                 1\n",
       "New Jersey               1\n",
       "Michigan                 1\n",
       "Name: State Name, dtype: int64"
      ]
     },
     "execution_count": 10,
     "metadata": {},
     "output_type": "execute_result"
    }
   ],
   "source": [
    "print(\"Black county count by state\")\n",
    "df[df[\"Percent Black\"] > 30][\"State Name\"].value_counts()"
   ]
  },
  {
   "cell_type": "code",
   "execution_count": 11,
   "metadata": {},
   "outputs": [
    {
     "name": "stdout",
     "output_type": "stream",
     "text": [
      "The top eight states above contain 30.86% of the total U.S. Black population.\n"
     ]
    }
   ],
   "source": [
    "interest_states = [\"Georgia\", \"Mississippi\", \"Louisiana\", \"North Carolina\", \"Virginia\", \"South Carolina\", \"Alabama\", \"Arkansas\"]\n",
    "percent_black_in_interest_states = round(df[df[\"State Name\"].isin(interest_states)][\"Total Black\"].astype(int).sum() / df[\"Total Black\"].sum() * 100, 2)\n",
    "print(f\"The top eight states above contain {percent_black_in_interest_states}% of the total U.S. Black population.\")"
   ]
  },
  {
   "cell_type": "markdown",
   "metadata": {},
   "source": [
    "## Income"
   ]
  },
  {
   "cell_type": "code",
   "execution_count": 12,
   "metadata": {},
   "outputs": [
    {
     "name": "stdout",
     "output_type": "stream",
     "text": [
      "Black county per capita income: 29843\n",
      "Other county per capita income: 34307\n"
     ]
    }
   ],
   "source": [
    "black_per_cap = round(black_df[\"Total income\"].sum() / black_df[\"Total Pop\"].sum())\n",
    "other_per_cap = round(other_df[\"Total income\"].sum() / other_df[\"Total Pop\"].sum())\n",
    "print(f\"Black county per capita income: {black_per_cap}\")\n",
    "print(f\"Other county per capita income: {other_per_cap}\")"
   ]
  },
  {
   "cell_type": "markdown",
   "metadata": {},
   "source": [
    "## Transportation"
   ]
  },
  {
   "cell_type": "code",
   "execution_count": 13,
   "metadata": {},
   "outputs": [
    {
     "name": "stdout",
     "output_type": "stream",
     "text": [
      "Black county workers with no vehichle access: 4.859%\n",
      "Other county workers with no vehichle access: 1.682%\n"
     ]
    }
   ],
   "source": [
    "black_no_vehicle = round(black_df[\"No vehicle\"].sum() / black_df[\"Total Pop\"].sum() * 100, 3)\n",
    "other_no_vehicle = round(other_df[\"No vehicle\"].sum() / other_df[\"Total Pop\"].sum() * 100, 3)\n",
    "\n",
    "print(f\"Black county workers with no vehichle access: {black_no_vehicle}%\")\n",
    "print(f\"Other county workers with no vehichle access: {other_no_vehicle}%\")"
   ]
  },
  {
   "cell_type": "code",
   "execution_count": 14,
   "metadata": {},
   "outputs": [
    {
     "name": "stdout",
     "output_type": "stream",
     "text": [
      "Black county MALE workers with no vehichle access: 4.751%\n",
      "Other county MALE workers with no vehichle access: 1.787%\n"
     ]
    }
   ],
   "source": [
    "black_men_no_vehicle = round(black_df[\"Men no vehicle\"].sum() / black_df[\"Total Male\"].sum() * 100, 3)\n",
    "other_men_no_vehicle = round(other_df[\"Men no vehicle\"].sum() / other_df[\"Total Male\"].sum() * 100, 3)\n",
    "\n",
    "print(f\"Black county MALE workers with no vehichle access: {black_men_no_vehicle}%\")\n",
    "print(f\"Other county MALE workers with no vehichle access: {other_men_no_vehicle}%\")"
   ]
  },
  {
   "cell_type": "code",
   "execution_count": 15,
   "metadata": {},
   "outputs": [
    {
     "name": "stdout",
     "output_type": "stream",
     "text": [
      "Black county taking public transit to work: 5.823%\n",
      "Other county taking public transit to work: 1.974%\n"
     ]
    }
   ],
   "source": [
    "# The census website claims the overall figure should be 5% which doesn't match this finding. \n",
    "black_public_trans = round(black_df[\"Public trans\"].sum() / black_df[\"Total Pop\"].sum() * 100, 3)\n",
    "other_public_trans = round(other_df[\"Public trans\"].sum() / other_df[\"Total Pop\"].sum() * 100, 3)\n",
    "\n",
    "print(f\"Black county taking public transit to work: {black_public_trans}%\")\n",
    "print(f\"Other county taking public transit to work: {other_public_trans}%\")"
   ]
  },
  {
   "cell_type": "markdown",
   "metadata": {},
   "source": [
    "## Health Insurance"
   ]
  },
  {
   "cell_type": "code",
   "execution_count": 16,
   "metadata": {},
   "outputs": [
    {
     "name": "stdout",
     "output_type": "stream",
     "text": [
      "Black county men over 44 with private health insurance: 61.205%\n",
      "Other county men over 44 with private health insurance: 68.542%\n",
      "Black county men over 44 with public health insurance: 54.152%\n",
      "Other county men over 44 with public health insurance: 51.039%\n"
     ]
    }
   ],
   "source": [
    "black_older_men_with_priv = round(black_df[\"Percent 44+ Men with Priv\"].mean() * 100, 3)\n",
    "other_older_men_with_priv = round(other_df[\"Percent 44+ Men with Priv\"].mean() * 100, 3)\n",
    "black_older_men_with_pub = round(black_df[\"Percent 44+ Men with Pub\"].mean() * 100, 3)\n",
    "other_older_men_with_pub = round(other_df[\"Percent 44+ Men with Pub\"].mean() * 100, 3)\n",
    "\n",
    "print(f\"Black county men over 44 with private health insurance: {black_older_men_with_priv}%\")\n",
    "print(f\"Other county men over 44 with private health insurance: {other_older_men_with_priv}%\")\n",
    "print(f\"Black county men over 44 with public health insurance: {black_older_men_with_pub}%\")\n",
    "print(f\"Other county men over 44 with public health insurance: {other_older_men_with_pub}%\")"
   ]
  },
  {
   "cell_type": "markdown",
   "metadata": {},
   "source": [
    "## Householder Incomes"
   ]
  },
  {
   "cell_type": "code",
   "execution_count": 17,
   "metadata": {},
   "outputs": [
    {
     "name": "stdout",
     "output_type": "stream",
     "text": [
      "Black householders making under 30K: 5649512\n",
      "Black householders making under 40K: 7265827\n",
      "Black householders older than 44 making under 30K: 3406973\n",
      "Black householders older than 44 making under 40K: 4285536\n"
     ]
    }
   ],
   "source": [
    "print(f\"Black householders making under 30K: {df['Black Householders under 30K'].sum()}\")\n",
    "print(f\"Black householders making under 40K: {df['Black Householders under 40K'].sum()}\")\n",
    "print(f\"Black householders older than 44 making under 30K: {df['Black Householders over 44 under 30K'].sum()}\")\n",
    "print(f\"Black householders older than 44 making under 40K: {df['Black Householders over 44 under 40K'].sum()}\")"
   ]
  },
  {
   "cell_type": "code",
   "execution_count": null,
   "metadata": {},
   "outputs": [],
   "source": []
  }
 ],
 "metadata": {
  "kernelspec": {
   "display_name": "Python 3",
   "language": "python",
   "name": "python3"
  },
  "language_info": {
   "codemirror_mode": {
    "name": "ipython",
    "version": 3
   },
   "file_extension": ".py",
   "mimetype": "text/x-python",
   "name": "python",
   "nbconvert_exporter": "python",
   "pygments_lexer": "ipython3",
   "version": "3.7.6"
  }
 },
 "nbformat": 4,
 "nbformat_minor": 4
}
